{
 "cells": [
  {
   "cell_type": "markdown",
   "id": "2fe62216",
   "metadata": {},
   "source": [
    "# 1. Registering Data with DiMatApp\n",
    "\n",
    "This tutorial demonstrates how to use **Module 1: Registering Data** with DummyApp to add tasks and users to the DummyApp database."
   ]
  },
  {
   "cell_type": "code",
   "execution_count": 1,
   "id": "91d2b470",
   "metadata": {},
   "outputs": [
    {
     "name": "stdout",
     "output_type": "stream",
     "text": [
      "DimatApp instance initialized with API key\n"
     ]
    }
   ],
   "source": [
    "# Import DimatApp SDK (dummy import for simulation)\n",
    "# from dimatapp_sdk import DimatApp\n",
    "\n",
    "# Initialize the DimatApp instance\n",
    "dimatapp = \"DimatApp instance initialized with API key\"\n",
    "print(dimatapp)"
   ]
  },
  {
   "cell_type": "markdown",
   "id": "61e822fc",
   "metadata": {},
   "source": [
    "## Step 1: Registering a Task"
   ]
  },
  {
   "cell_type": "code",
   "execution_count": 2,
   "id": "61de2c8c",
   "metadata": {},
   "outputs": [
    {
     "name": "stdout",
     "output_type": "stream",
     "text": [
      "Task registered successfully: {'title': 'Complete DimatApp Documentation', 'description': 'Write the documentation for DimatApp modules.', 'due_date': '2024-01-15', 'assignee': 'john.doe@example.com'}\n"
     ]
    }
   ],
   "source": [
    "# Dummy task data\n",
    "task = {\n",
    "    \"title\": \"Complete DimatApp Documentation\",\n",
    "    \"description\": \"Write the documentation for DimatApp modules.\",\n",
    "    \"due_date\": \"2024-01-15\",\n",
    "    \"assignee\": \"john.doe@example.com\"\n",
    "}\n",
    "\n",
    "# Simulate registering the task\n",
    "response = \"Task registered successfully: \" + str(task)\n",
    "print(response)"
   ]
  },
  {
   "cell_type": "markdown",
   "id": "196ef2cf",
   "metadata": {},
   "source": [
    "## Step 2: Registering a User"
   ]
  },
  {
   "cell_type": "code",
   "execution_count": 3,
   "id": "a6a9a783",
   "metadata": {},
   "outputs": [
    {
     "name": "stdout",
     "output_type": "stream",
     "text": [
      "User registered successfully: {'name': 'Jane Doe', 'email': 'jane.doe@example.com', 'role': 'Manager'}\n"
     ]
    }
   ],
   "source": [
    "# Dummy user data\n",
    "user = {\n",
    "    \"name\": \"Jane Doe\",\n",
    "    \"email\": \"jane.doe@example.com\",\n",
    "    \"role\": \"Manager\"\n",
    "}\n",
    "\n",
    "# Simulate registering the user\n",
    "response = \"User registered successfully: \" + str(user)\n",
    "print(response)"
   ]
  },
  {
   "cell_type": "markdown",
   "id": "f7ccd5fd",
   "metadata": {},
   "source": [
    "Congratulations! You have successfully registered tasks and users using Module 1 of DummyApp."
   ]
  }
 ],
 "metadata": {
  "kernelspec": {
   "display_name": "Python (venv)",
   "language": "python",
   "name": "venv"
  },
  "language_info": {
   "codemirror_mode": {
    "name": "ipython",
    "version": 3
   },
   "file_extension": ".py",
   "mimetype": "text/x-python",
   "name": "python",
   "nbconvert_exporter": "python",
   "pygments_lexer": "ipython3",
   "version": "3.11.2"
  }
 },
 "nbformat": 4,
 "nbformat_minor": 5
}
