{
 "cells": [
  {
   "cell_type": "markdown",
   "id": "34110a8b",
   "metadata": {},
   "source": [
    "# 2. Sending Data from DimatApp\n",
    "\n",
    "This tutorial demonstrates how to use **Module 2: Sending Data** with DimatApp to export tasks and send data to external systems."
   ]
  },
  {
   "cell_type": "code",
   "execution_count": 4,
   "id": "6e58b5f2",
   "metadata": {},
   "outputs": [
    {
     "name": "stdout",
     "output_type": "stream",
     "text": [
      "DummyApp instance initialized with API key\n"
     ]
    }
   ],
   "source": [
    "# Import DummyApp SDK (dummy import for simulation)\n",
    "# from dummyapp_sdk import DummyApp\n",
    "\n",
    "# Initialize the DummyApp instance\n",
    "dummyapp = \"DummyApp instance initialized with API key\"\n",
    "print(dummyapp)"
   ]
  },
  {
   "cell_type": "markdown",
   "id": "00bfcf0c",
   "metadata": {},
   "source": [
    "## Step 1: Exporting Data to JSON"
   ]
  },
  {
   "cell_type": "code",
   "execution_count": 5,
   "id": "a5f06214",
   "metadata": {},
   "outputs": [
    {
     "name": "stdout",
     "output_type": "stream",
     "text": [
      "Tasks exported to tasks.json\n"
     ]
    }
   ],
   "source": [
    "import json\n",
    "\n",
    "# Dummy tasks data\n",
    "tasks = [\n",
    "    {\"title\": \"Task 1\", \"assignee\": \"john.doe@example.com\", \"due_date\": \"2024-01-10\"},\n",
    "    {\"title\": \"Task 2\", \"assignee\": \"jane.doe@example.com\", \"due_date\": \"2024-01-15\"}\n",
    "]\n",
    "\n",
    "# Simulate exporting tasks to JSON\n",
    "with open(\"tasks.json\", \"w\") as file:\n",
    "    json.dump(tasks, file)\n",
    "    print(\"Tasks exported to tasks.json\")"
   ]
  },
  {
   "cell_type": "markdown",
   "id": "7bbe2962",
   "metadata": {},
   "source": [
    "## Step 2: Sending Data to an External System"
   ]
  },
  {
   "cell_type": "code",
   "execution_count": 6,
   "id": "86e64903",
   "metadata": {},
   "outputs": [
    {
     "name": "stdout",
     "output_type": "stream",
     "text": [
      "Data sent successfully to https://external-service.com/api/upload with headers {'Authorization': 'Bearer some_token'}\n"
     ]
    }
   ],
   "source": [
    "# Dummy API endpoint and headers\n",
    "api_endpoint = \"https://external-service.com/api/upload\"\n",
    "headers = {\"Authorization\": \"Bearer some_token\"}\n",
    "\n",
    "# Simulate sending data to the external API\n",
    "response = f\"Data sent successfully to {api_endpoint} with headers {headers}\"\n",
    "print(response)"
   ]
  },
  {
   "cell_type": "markdown",
   "id": "e38c7687",
   "metadata": {},
   "source": [
    "Congratulations! You have successfully exported and sent data using Module 2 of DimatApp."
   ]
  }
 ],
 "metadata": {
  "kernelspec": {
   "display_name": "Python (venv)",
   "language": "python",
   "name": "venv"
  },
  "language_info": {
   "codemirror_mode": {
    "name": "ipython",
    "version": 3
   },
   "file_extension": ".py",
   "mimetype": "text/x-python",
   "name": "python",
   "nbconvert_exporter": "python",
   "pygments_lexer": "ipython3",
   "version": "3.11.2"
  }
 },
 "nbformat": 4,
 "nbformat_minor": 5
}
